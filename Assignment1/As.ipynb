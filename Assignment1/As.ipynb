{
 "cells": [
  {
   "cell_type": "code",
   "execution_count": null,
   "metadata": {},
   "outputs": [],
   "source": [
    "def is_valid(state):\n",
    "    left_missionaries, left_cannibals, boat, right_missionaries, right_cannibals = state\n",
    "    if 0 <= left_missionaries <= 3 and 0 <= left_cannibals <= 3 and 0 <= right_missionaries <= 3 and 0 <= right_cannibals <= 3:\n",
    "        if (left_missionaries == 0 or left_missionaries >= left_cannibals) and (right_missionaries == 0 or right_missionaries >= right_cannibals):\n",
    "            return True\n",
    "    return False"
   ]
  },
  {
   "cell_type": "code",
   "execution_count": null,
   "metadata": {},
   "outputs": [],
   "source": [
    "def generate_next_states(state):\n",
    "    left_missionaries, left_cannibals, boat, right_missionaries, right_cannibals = state\n",
    "    moves = [(1,0), (2,0), (0,1), (0,2), (1,1)]\n",
    "    next_states = []\n",
    "    for dm, dc in moves:\n",
    "        if boat == 1:  # Boat on the left side\n",
    "            new_state = (left_missionaries - dm, left_cannibals - dc, 0, right_missionaries + dm, right_cannibals + dc)\n",
    "        else:  # Boat on the right side\n",
    "            new_state = (left_missionaries + dm, left_cannibals + dc, 1, right_missionaries - dm, right_cannibals - dc)\n",
    "        if is_valid(new_state):\n",
    "            next_states.append(new_state)\n",
    "    return next_states\n",
    "            "
   ]
  },
  {
   "cell_type": "code",
   "execution_count": null,
   "metadata": {},
   "outputs": [],
   "source": [
    "def bfs(initial_state):\n",
    "    queue = [(initial_state, [initial_state])]\n",
    "    visited = set()\n",
    "    while queue:\n",
    "        current_state, path = queue.pop(0)\n",
    "        if current_state in visited:\n",
    "            continue\n",
    "        visited.add(current_state)\n",
    "        if current_state == (0, 0, 0, 3, 3):\n",
    "            return path\n",
    "        for next_state in generate_next_states(current_state):\n",
    "            if next_state not in visited:\n",
    "                queue.append((next_state, path + [next_state]))\n",
    "    return None\n"
   ]
  },
  {
   "cell_type": "code",
   "execution_count": null,
   "metadata": {},
   "outputs": [],
   "source": [
    "start_state = (3, 3, 1, 0, 0)\n",
    "\n",
    "solution = bfs(start_state)\n",
    "\n",
    "if solution:\n",
    "    print(\"Solution Path:\")\n",
    "    for state in solution:\n",
    "        left_missionaries, left_cannibals, boat, right_missionaries, right_cannibals = state\n",
    "        print(f\"{left_missionaries} Missionaries, {left_cannibals} Cannibals, {'Boat on left' if boat == 1 else 'Boat on right'}, {right_missionaries} Missionaries, {right_cannibals} Cannibals\")\n",
    "else:\n",
    "    print(\"No Solution\")"
   ]
  }
 ],
 "metadata": {
  "language_info": {
   "name": "python"
  }
 },
 "nbformat": 4,
 "nbformat_minor": 2
}
