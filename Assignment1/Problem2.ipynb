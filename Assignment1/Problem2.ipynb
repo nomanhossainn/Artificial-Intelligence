{
  "nbformat": 4,
  "nbformat_minor": 0,
  "metadata": {
    "colab": {
      "provenance": []
    },
    "kernelspec": {
      "name": "python3",
      "display_name": "Python 3"
    },
    "language_info": {
      "name": "python"
    }
  },
  "cells": [
    {
      "cell_type": "code",
      "execution_count": 1,
      "metadata": {
        "id": "1VIodKLMzGeq"
      },
      "outputs": [],
      "source": [
        "import tensorflow as tf\n",
        "import numpy as np"
      ]
    },
    {
      "cell_type": "code",
      "source": [
        "x = tf.Variable(2.0)\n",
        "y = tf.Variable(10.0)"
      ],
      "metadata": {
        "id": "cfGcna4FzcLF"
      },
      "execution_count": 2,
      "outputs": []
    },
    {
      "cell_type": "code",
      "source": [
        "with tf.GradientTape(persistent=True) as tape:\n",
        "    z = x**2 * tf.sin(y)\n",
        "    a = z**3 + tf.exp(z)\n",
        "    p = tf.math.log(a) + a**2"
      ],
      "metadata": {
        "id": "N-qJO7C7ziiH"
      },
      "execution_count": 9,
      "outputs": []
    },
    {
      "cell_type": "code",
      "source": [
        "with tf.GradientTape() as tape:\n",
        "    p = equation(x, y)"
      ],
      "metadata": {
        "id": "o9OHVq8Rzmfg"
      },
      "execution_count": 7,
      "outputs": []
    },
    {
      "cell_type": "code",
      "source": [
        "dp_by_dx = tape.gradient(p, x)\n",
        "dp_by_dy = tape.gradient(p, y)"
      ],
      "metadata": {
        "id": "PbU8_1pPzpxI"
      },
      "execution_count": 10,
      "outputs": []
    },
    {
      "cell_type": "code",
      "source": [
        "print(\"Gradient dp/dx at [x=2, y=10] -> \", dp_by_dx.numpy())\n",
        "print(\"Gradient dp/dy at [x=2, y=10] -> \", dp_by_dy.numpy())"
      ],
      "metadata": {
        "colab": {
          "base_uri": "https://localhost:8080/"
        },
        "id": "1pcrTnmQ2S6J",
        "outputId": "d614a8b2-c770-4732-e2d8-d2b31d740fb6"
      },
      "execution_count": 13,
      "outputs": [
        {
          "output_type": "stream",
          "name": "stdout",
          "text": [
            "Gradient dp/dx at [x=2, y=10] ->  638.17194\n",
            "Gradient dp/dy at [x=2, y=10] ->  984.2851\n"
          ]
        }
      ]
    }
  ]
}