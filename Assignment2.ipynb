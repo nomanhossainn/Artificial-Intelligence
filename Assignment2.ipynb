{
 "cells": [
  {
   "cell_type": "code",
   "execution_count": 5,
   "metadata": {},
   "outputs": [
    {
     "ename": "NameError",
     "evalue": "name 'df' is not defined",
     "output_type": "error",
     "traceback": [
      "\u001b[0;31m---------------------------------------------------------------------------\u001b[0m",
      "\u001b[0;31mNameError\u001b[0m                                 Traceback (most recent call last)",
      "Cell \u001b[0;32mIn[5], line 1\u001b[0m\n\u001b[0;32m----> 1\u001b[0m data_array \u001b[38;5;241m=\u001b[39m \u001b[43mdf\u001b[49m\u001b[38;5;241m.\u001b[39mto_numpy()\n\u001b[1;32m      2\u001b[0m data_array \u001b[38;5;241m=\u001b[39m data_array\u001b[38;5;241m.\u001b[39mastype(\u001b[38;5;28mfloat\u001b[39m)\n\u001b[1;32m      3\u001b[0m \u001b[38;5;28mprint\u001b[39m(data_array)\n",
      "\u001b[0;31mNameError\u001b[0m: name 'df' is not defined"
     ]
    }
   ],
   "source": [
    "import pandas as pd\n",
    "\n",
    "file_path = \"/content/drive/MyDrive/AI/AI.xlsx\"\n",
    "\n",
    "df = pd.read_excel(file_path)\n",
    "\n",
    "print(df)\n",
    "data_array = df.to_numpy()\n",
    "data_array = data_array.astype(float)\n",
    "print(data_array)\n",
    "normalized_data = np.zeros_like(data_array)\n",
    "print(normalized_data.shape)\n",
    "\n",
    "noOfRows = normalized_data.shape[0]\n",
    "noOfColumns = normalized_data.shape[1]\n",
    "for i in range(noOfColumns):\n",
    "    xmin = np.min(data_array[:, i])\n",
    "    xmax = np.max(data_array[:, i])\n",
    "    normalized_data[:, i] = (data_array[:, i] - xmin) / (xmax - xmin)\n",
    "print(normalized_data)\n",
    "k = 3  # Number of clusters\n",
    "noOfPoints = normalized_data.shape[0]\n",
    "random_points = np.random.choice(noOfPoints, k, replace=False)\n",
    "centroids = normalized_data[random_points]\n",
    "print(centroids)\n",
    "new_centroids = np.zeros_like(centroids)\n",
    "for i in range(k):\n",
    "        points = normalized_data[clusters == i]\n",
    "        if len(points) > 0:\n",
    "            new_centroids[i] = points.mean(axis=0)\n",
    "        else:\n",
    "            new_centroids[i] = centroids[i]\n",
    "\n",
    "print(new_centroids)\n",
    "if np.all(np.abs(new_centroids - centroids) < tolerance):\n",
    "    break\n",
    "else:\n",
    "    centroids = new_centroids\n",
    "print(\"Cluster assignments:\", clusters)"
   ]
  }
 ],
 "metadata": {
  "kernelspec": {
   "display_name": "Python 3",
   "language": "python",
   "name": "python3"
  },
  "language_info": {
   "codemirror_mode": {
    "name": "ipython",
    "version": 3
   },
   "file_extension": ".py",
   "mimetype": "text/x-python",
   "name": "python",
   "nbconvert_exporter": "python",
   "pygments_lexer": "ipython3",
   "version": "3.12.4"
  }
 },
 "nbformat": 4,
 "nbformat_minor": 2
}
